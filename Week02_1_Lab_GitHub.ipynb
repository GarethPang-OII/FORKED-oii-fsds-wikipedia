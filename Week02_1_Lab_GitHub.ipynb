{
 "cells": [
  {
   "cell_type": "markdown",
   "metadata": {},
   "source": [
    "# Fundamentals of Social Data Science\n",
    "# Week 2 Day 1. Lab. \n"
   ]
  },
  {
   "cell_type": "markdown",
   "metadata": {},
   "source": [
    "Within this directory is a python file `download_wiki_revisions.py`. Run that file on the terminal. It should run with your standard Python rather simply but you might want to run a virtual environment in this directory. You will notice that it does not have a requirements.txt file. Instead it has a `pyproject.toml` file, but that work similarly from pip's perspective (but it can be a bit more advanced as it uses 'setuptools' under the hood). "
   ]
  },
  {
   "cell_type": "markdown",
   "metadata": {},
   "source": [
    "## Step 0. Fork the project \n",
    "\n",
    "Create a fork of the project: https://github.com/berniehogan/oii-fsds-wikipedia \n",
    "This is the course convenor's fork of the TA's project. If you navigate to https://github.com/Rysias/oii-fsds-wikipedia instead you fork that one, which is very similar except this notebook is different and there are a tiny number of comments different in the python file. Clone your forked project into a local folder and then navigate to that folder.\n",
    "\n",
    "## Step 1. Configure your environment\n",
    "- python (or python3) `python -m venv .venv`\n",
    "- `source .venv/bin/activate` \n",
    "- `pip install .`\n",
    "\n",
    "Then run the Python file in the directory with an argument for the name of the page. Open a terminal and type from this folder: \n",
    "\n",
    "`python download_wiki_revisions.py <article_name>`\n",
    "\n",
    "It should download 10 revisions by default. Check your work."
   ]
  },
  {
   "cell_type": "code",
   "execution_count": 1,
   "metadata": {},
   "outputs": [],
   "source": [
    "# Run this in terminal:\n",
    "\n",
    "# python download_wiki_revisions.py \"Dog\""
   ]
  },
  {
   "cell_type": "markdown",
   "metadata": {},
   "source": [
    "## Step 2. Download 1000 more revisions \n",
    "\n",
    "See how you can download 1000 revisions, solely through the command and not by editing the code. Explore the code for the Python script (and the readme file) to help you out. "
   ]
  },
  {
   "cell_type": "code",
   "execution_count": 2,
   "metadata": {},
   "outputs": [],
   "source": [
    "# Run this in terminal:\n",
    "\n",
    "# python download_wiki_revisions.py --limit 1000 \"Singapore\""
   ]
  },
  {
   "cell_type": "markdown",
   "metadata": {},
   "source": [
    "## Step 3. Modify the code to count revisions\n",
    "\n",
    "Add a `count_files(folders=False)` function to the Python script. This should then be called when you download files. Then replace print(\"Done!\") with a message that reports the number of files downloaded. Ensure that it only counts the files and not the folders, unless `folders=True`. "
   ]
  },
  {
   "cell_type": "markdown",
   "metadata": {},
   "source": [
    "### Approach\n",
    "\n",
    "1. I will be using a copy of the original Python script --> This new script is called: download_wiki_revisions2.py\n",
    "2. First add a new argument at the bottom\n",
    "3. Update the main function\n",
    "4. Make sure you check the input of the function\n",
    "5. For some reason the terminal does not recognise Boolean --> Hence use \"str\"\n",
    "6. Note: You cannot type `folder = \"False\"` because the function will recognise the whole thing as an entry\n",
    "\n",
    "    a. Instead, just type `\"False\"`\n",
    "    \n",
    "    b. The function only recognises by position, not by index"
   ]
  },
  {
   "cell_type": "code",
   "execution_count": 3,
   "metadata": {},
   "outputs": [],
   "source": [
    "# I will be using a copy of the original Python script --> This new script is called: download_wiki_revisions2.py\n",
    "\n"
   ]
  },
  {
   "cell_type": "markdown",
   "metadata": {},
   "source": [
    "## Step 4. Modify the code to skip updates\n",
    "\n",
    "Add some means that allows you to pass --update=False as an argument. Then process that argument somewhere meaningfully in the code so that you will still get the report of how many files are in the folders.\n",
    "\n",
    "Create a condition called 'update'. This should be an argument to the Python file, such that one can write `python xx.py =\"article name\" update=False`. The default state will be `True`. When false, the program will only count the files, but it will not download a new XML and try to create a new folder or set of folders. That way, it will always return the number of files if there is a directory named `\"article name\", but it will not download and process a new version of the file from WikiMedia unless update=True. "
   ]
  },
  {
   "cell_type": "markdown",
   "metadata": {},
   "source": [
    "### Approach:\n",
    "\n",
    "Insert an IF-ELSE clause for the main function\n",
    "\n",
    "- If update == \"True\": \n",
    "\n",
    "    a. Download write etc\n",
    "\n",
    "- Else:\n",
    "\n",
    "    a. Do not write the files (ie don't use the function `construct_path`)\n",
    "\n",
    "    b. Instead, while iterating across the rows, add a counter"
   ]
  },
  {
   "cell_type": "markdown",
   "metadata": {},
   "source": [
    "## Step 5. Update your GitHub repository \n",
    "\n",
    "Go to the source tab on Visual Studio and commit your changes to the Python file and this file. Update them to your GitHub repo (not mine ;) "
   ]
  },
  {
   "cell_type": "code",
   "execution_count": null,
   "metadata": {},
   "outputs": [],
   "source": [
    "# You should be able to practice the count_files() method here before adding it to the python script. \n",
    "# Alternatively you can do Step 4 first so that you do not continually download new files and then \n",
    "# work within that script directly. \n",
    "\n",
    "def count_files():\n",
    "    return"
   ]
  }
 ],
 "metadata": {
  "kernelspec": {
   "display_name": ".venv",
   "language": "python",
   "name": "python3"
  },
  "language_info": {
   "codemirror_mode": {
    "name": "ipython",
    "version": 3
   },
   "file_extension": ".py",
   "mimetype": "text/x-python",
   "name": "python",
   "nbconvert_exporter": "python",
   "pygments_lexer": "ipython3",
   "version": "3.12.4"
  }
 },
 "nbformat": 4,
 "nbformat_minor": 2
}
